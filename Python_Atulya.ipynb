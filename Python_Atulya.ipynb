{
  "nbformat": 4,
  "nbformat_minor": 0,
  "metadata": {
    "colab": {
      "name": "Python_Atulya.ipynb",
      "provenance": [],
      "collapsed_sections": [],
      "authorship_tag": "ABX9TyMnJ69we/B/u1lXrsFBd9+C",
      "include_colab_link": true
    },
    "kernelspec": {
      "name": "python3",
      "display_name": "Python 3"
    },
    "language_info": {
      "name": "python"
    }
  },
  "cells": [
    {
      "cell_type": "markdown",
      "metadata": {
        "id": "view-in-github",
        "colab_type": "text"
      },
      "source": [
        "<a href=\"https://colab.research.google.com/github/kamlesh-ops/Pythoncode_Atulya/blob/main/Python_Atulya.ipynb\" target=\"_parent\"><img src=\"https://colab.research.google.com/assets/colab-badge.svg\" alt=\"Open In Colab\"/></a>"
      ]
    },
    {
      "cell_type": "code",
      "source": [
        "#Q1\n",
        "def func(lst,str):\n",
        "    if str==\"asc\":\n",
        "        for i in range(0,len(lst)):\n",
        "            for j in range(0,len(lst)-i-1):\n",
        "                if lst[j+1]<lst[j]:\n",
        "                    lst[j+1],lst[j]=lst[j],lst[j+1]\n",
        "        return (lst)\n",
        "    elif str==\"desc\":\n",
        "        for i in range(0,len(lst)):\n",
        "            for j in range(0,len(lst)-i-1):\n",
        "                if lst[j+1]>lst[j]:\n",
        "                    lst[j+1],lst[j]=lst[j],lst[j+1]\n",
        "        return (lst)\n",
        "    elif str==\"none\":\n",
        "        return (lst)\n",
        "\n",
        "\n",
        "lst=eval(input(\"Enter a list of items\"))\n",
        "str=input(\"Enter the operation asc/desc/none\")\n",
        "m_list=func(lst,str)\n",
        "print(m_list)\n"
      ],
      "metadata": {
        "id": "LPBWiExoJuJC"
      },
      "execution_count": null,
      "outputs": []
    },
    {
      "cell_type": "code",
      "source": [
        "#Q2\n",
        "def card(c_no):\n",
        "  c=str(c_no)\n",
        "  b=''\n",
        "  l=len(c)\n",
        "  for i in range(0,l-4,1):\n",
        "    b=b+'*'\n",
        "  for i in range(-4,0,1):\n",
        "    b=b+c[i]\n",
        "  return b\n",
        "\n",
        "#main\n",
        "c_no=int(input(\"enter card number\"))\n",
        "e=card(c_no)\n",
        "print(e)"
      ],
      "metadata": {
        "id": "_ZjClz6VwJfr"
      },
      "execution_count": null,
      "outputs": []
    },
    {
      "cell_type": "code",
      "source": [
        "#Q3\n",
        "def oper(int1,int2,op):\n",
        "  if op=='+':\n",
        "    return(int1+int2)\n",
        "  elif op=='-':\n",
        "    if int1>int2:\n",
        "      return(int1-int2)\n",
        "    else:\n",
        "      return(int2-int1)\n",
        "  elif op=='*':\n",
        "    return(int1*int2)\n",
        "  else:\n",
        "    if int1>int2:\n",
        "      return(int1/int2)\n",
        "    else:\n",
        "      return(int2/int1)\n",
        "\n",
        "#main\n",
        "int1=int(input(\"Enter a number\"))\n",
        "int2=int(input(\"Enter other number\"))\n",
        "op=input(\"Enter the operation\")\n",
        "c=oper(int1,int2,op)\n",
        "print(\"The output is\",c)"
      ],
      "metadata": {
        "id": "59XddFdnJqtA"
      },
      "execution_count": null,
      "outputs": []
    },
    {
      "cell_type": "code",
      "source": [
        "#Q4\n",
        "def str_doub(str):\n",
        "  b=''\n",
        "  l=len(str)\n",
        "  for i in range(0,l,1):\n",
        "    b=b+(str[i]*2)\n",
        "  return b\n",
        "\n",
        "#main\n",
        "str=input(\"Enter a string\")\n",
        "c=str_doub(str)\n",
        "print(\"The doubled string is\",c)"
      ],
      "metadata": {
        "id": "yaVkm0u9UFuA"
      },
      "execution_count": null,
      "outputs": []
    },
    {
      "cell_type": "code",
      "source": [
        "#Q5\n",
        "def dup(arr):\n",
        "  l=len(arr)\n",
        "  for i in range(0,l,1):\n",
        "    a=arr[i]\n",
        "    for j in range(i+1,l,1):\n",
        "      if arr[j]==a:\n",
        "        print(\"Duplicate no. is\",arr[j])\n",
        "        break\n",
        "#main\n",
        "arr=[]\n",
        "for i in range(0,98,1):\n",
        "  arr.append(i+1)\n",
        "n=int(input(\"Enter the duplicate number in given array(1-99)\"))\n",
        "i=int(input(\"Enter the index\"))\n",
        "arr.insert(i,n)\n",
        "dup(arr)"
      ],
      "metadata": {
        "id": "E0JhG5EVVhXV"
      },
      "execution_count": null,
      "outputs": []
    },
    {
      "cell_type": "code",
      "source": [
        "#Q6\n",
        "def prime(n0,n1):\n",
        "  print(\"In the range\",n0,\"-\",n1)\n",
        "  for i in range(n0,n1+1,1):\n",
        "    m=i//2\n",
        "    k=0\n",
        "    for j in range(2,m+1,1):\n",
        "      if i%j==0:\n",
        "        k=1\n",
        "        break\n",
        "    if k==0:\n",
        "      print(i,\"is prime\")\n",
        "\n",
        "#main\n",
        "n0=int(input(\"Enter the start of range\"))\n",
        "n1=int(input(\"Enter the last element of range\"))\n",
        "prime(n0,n1)"
      ],
      "metadata": {
        "id": "i8eX_hqNjeC_"
      },
      "execution_count": null,
      "outputs": []
    },
    {
      "cell_type": "code",
      "source": [
        "#Q7\n",
        "def freq(arr):\n",
        "  l=len(arr)\n",
        "  count=1\n",
        "  elem=0\n",
        "  flag=0\n",
        "  for i in range(0,l,1):\n",
        "    for k in range(0,i,1):\n",
        "      if arr[k]==arr[i]:\n",
        "        flag=1 #duplicate counted\n",
        "        break\n",
        "    if flag==0:\n",
        "      for j in range(i+1,l,1):\n",
        "        if arr[j]==arr[i]:\n",
        "          count+=1\n",
        "      elem=arr[i]\n",
        "\n",
        "  return(count,elem)\n",
        "    \n",
        "\n",
        "#main\n",
        "arr=eval(input(\"Enter a list of numbers\"))\n",
        "a,b=freq(arr)\n",
        "print(\"The element is\",b, \"with a frequency of\",a)\n"
      ],
      "metadata": {
        "id": "1TPfkXZB_-ah"
      },
      "execution_count": null,
      "outputs": []
    },
    {
      "cell_type": "code",
      "source": [
        "#Q8\n",
        "def sum_str(str):\n",
        "  sum=0\n",
        "  for i in range(0,len(str)):\n",
        "    if str[i].isdigit():\n",
        "      sum+=int(str[i])\n",
        "  return sum\n",
        "\n",
        "#main\n",
        "str=input(\"Enter a string containing numbers\")\n",
        "sum=sum_str(str)\n",
        "print(\"The sum of numbers in string is\",sum)"
      ],
      "metadata": {
        "id": "2T63-1oG97gH"
      },
      "execution_count": null,
      "outputs": []
    },
    {
      "cell_type": "code",
      "source": [
        "#Q9\n",
        "def str_sort(str):\n",
        "  list=[]\n",
        "  b=''\n",
        "  for i in range(0,len(str),1):\n",
        "    list.append(str[i])\n",
        "  for i in range(0,len(list),1):\n",
        "    for j in range(0,len(list)-i-1,1):\n",
        "      if list[j+1].lower()<list[j].lower() or list[j+1].upper()<list[j].upper():\n",
        "        list[j+1],list[j]=list[j],list[j+1]\n",
        "  for i in range(0,len(list),1):\n",
        "    b=b+list[i]\n",
        "  return(b)\n",
        "\n",
        "#main\n",
        "str=input(\"Enter a string\")\n",
        "s_str=str_sort(str)\n",
        "print(\"The sorted string in ascending order is \",s_str) "
      ],
      "metadata": {
        "id": "65NpRDRgEuwF"
      },
      "execution_count": null,
      "outputs": []
    },
    {
      "cell_type": "code",
      "source": [
        "#Q10\n",
        "def binary(num):\n",
        "  m=0\n",
        "  b=''\n",
        "  c=''\n",
        "  while num!=0:\n",
        "    m=num%2\n",
        "    b=b + str(m)\n",
        "    num=num//2\n",
        "    c=b[::-1]\n",
        "    \n",
        "  return(c)\n",
        "\n",
        "def decimal(num):\n",
        "  l=len(str(num))\n",
        "  sum=0\n",
        "  for i in range(0,l,1):\n",
        "    r = num%10\n",
        "    sum+=(2**i)*r\n",
        "    num=num//10\n",
        "  return(sum)\n",
        "\n",
        "def swap(num1,num2):\n",
        "  print(\"Number1=\",num1,\"Number2=\",num2)\n",
        "  b_num1 = int(binary(num1))\n",
        "  b_num2 = int(binary(num2))\n",
        "  a = b_num1^b_num2\n",
        "  c = a^b_num1\n",
        "  b_num2 = b_num1\n",
        "  b_num1 = c\n",
        "  num1 = decimal(b_num1)\n",
        "  num2 = decimal(b_num2)\n",
        "  print(\"After swapping, the numbers are\")\n",
        "  print(\"Number1=\",num1,\"Number2=\",num2)\n",
        "\n",
        "#main\n",
        "num1=int(input(\"Enter first number\"))\n",
        "num2=int(input(\"Enter second number\"))\n",
        "swap(num1,num2)"
      ],
      "metadata": {
        "id": "Ewf879GpHGCF"
      },
      "execution_count": null,
      "outputs": []
    }
  ]
}