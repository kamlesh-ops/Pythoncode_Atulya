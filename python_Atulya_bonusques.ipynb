{
  "cells": [
    {
      "cell_type": "markdown",
      "metadata": {
        "id": "view-in-github",
        "colab_type": "text"
      },
      "source": [
        "<a href=\"https://colab.research.google.com/github/kamlesh-ops/Pythoncode_Atulya/blob/main/python_Atulya_bonusques.ipynb\" target=\"_parent\"><img src=\"https://colab.research.google.com/assets/colab-badge.svg\" alt=\"Open In Colab\"/></a>"
      ]
    },
    {
      "cell_type": "code",
      "execution_count": null,
      "metadata": {
        "id": "Is6o3EW2Jkd2"
      },
      "outputs": [],
      "source": [
        "#Q11\n",
        "a=input(\"Enter a string\")\n",
        "b=a[::-1]\n",
        "if a==b:\n",
        "  print(a,\"is palindrome\")\n",
        "else:\n",
        "  print(\"Not palindrome\")\n"
      ]
    },
    {
      "cell_type": "code",
      "execution_count": null,
      "metadata": {
        "id": "XVbT-VlBLHeK"
      },
      "outputs": [],
      "source": [
        "#Q13\n",
        "def odd_count(arr):\n",
        " \n",
        "    x=0\n",
        "    for i in arr:\n",
        "        x = x ^ i\n",
        " \n",
        "    return x\n",
        " \n",
        " \n",
        "if __name__ == '__main__':\n",
        " \n",
        "    arr = eval(input(\"Enter a list of elememts containing all even count except one\"))\n",
        "    print('The odd occurring element is', odd_count(arr))"
      ]
    },
    {
      "cell_type": "code",
      "execution_count": null,
      "metadata": {
        "colab": {
          "background_save": true
        },
        "id": "VCSE6g6tIV2V"
      },
      "outputs": [],
      "source": [
        "#Q15\n",
        "def count(str):\n",
        "  c_alpha=0\n",
        "  c_digit=0\n",
        "  c_special=0\n",
        "  c_space=0\n",
        "\n",
        "  for i in str:\n",
        "    if i.isalpha():\n",
        "      c_alpha+=1\n",
        "    elif i.isdigit():\n",
        "      c_digit+=1\n",
        "    elif i==\" \":\n",
        "      c_space+=1\n",
        "    else:\n",
        "      c_special+=1 \n",
        "  return c_alpha,c_digit,c_special\n",
        "\n",
        "#main\n",
        "str=input(\"Enter a string\")\n",
        "a,b,c=count(str)\n",
        "print(\"no.of alphabets=\",a)\n",
        "print(\"no.of digits=\",b)\n",
        "print(\"no.of special characters=\",c)\n"
      ]
    },
    {
      "cell_type": "code",
      "execution_count": null,
      "metadata": {
        "id": "-_csNBxQLIIG"
      },
      "outputs": [],
      "source": [
        "#Q16\n",
        "def prime(n0,n1):\n",
        "  print(\"In the range\",n0,\"-\",n1)\n",
        "  for i in range(n0,n1+1,1):\n",
        "    m=i//2\n",
        "    k=0\n",
        "    for j in range(2,m+1,1):\n",
        "      if i%j==0:\n",
        "        k=1\n",
        "        break\n",
        "    if k==0:\n",
        "      print(i,\"is prime\")\n",
        "\n",
        "#main\n",
        "n0=int(input(\"Enter the start of range\"))\n",
        "n1=int(input(\"Enter the last element of range\"))\n",
        "prime(n0,n1)"
      ]
    }
  ],
  "metadata": {
    "colab": {
      "collapsed_sections": [],
      "name": "python_Atulya_bonusques.ipynb",
      "provenance": [],
      "authorship_tag": "ABX9TyNUrs9BWa+BzMJt781bkyjQ",
      "include_colab_link": true
    },
    "kernelspec": {
      "display_name": "Python 3",
      "name": "python3"
    },
    "language_info": {
      "name": "python"
    }
  },
  "nbformat": 4,
  "nbformat_minor": 0
}